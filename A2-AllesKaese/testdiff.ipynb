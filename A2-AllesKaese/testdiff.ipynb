{
 "cells": [
  {
   "cell_type": "code",
   "execution_count": 44,
   "metadata": {},
   "outputs": [],
   "source": [
    "import collections\n",
    "from typing import Set, Tuple"
   ]
  },
  {
   "cell_type": "code",
   "execution_count": 45,
   "metadata": {},
   "outputs": [],
   "source": [
    "with open('beispieldaten/kaese1.txt', 'r') as f:\n",
    "    stack = [tuple(map(int, f.readline().split())) for _ in range(int(f.readline()))]"
   ]
  },
  {
   "cell_type": "code",
   "execution_count": 46,
   "metadata": {},
   "outputs": [],
   "source": [
    "lookup = collections.defaultdict(set)\n",
    "try:\n",
    "    for i, (a, b) in enumerate(stack):\n",
    "        lookup[a].add(i)\n",
    "        lookup[b].add(i)\n",
    "except ValueError:\n",
    "    raise Exception(\n",
    "        \"ValueError: Die Eingabe-Datei ist wahrscheinlich nicht korrekt formatiert.\"\n",
    "    )"
   ]
  },
  {
   "cell_type": "code",
   "execution_count": 47,
   "metadata": {},
   "outputs": [],
   "source": [
    "# Funktion zum Zugriff auf Nachbarn\n",
    "def get_neighbors_alt(size: Tuple[int, int, int]) -> Set[Tuple[int, Tuple[int, int, int]]]:\n",
    "    ret = set()\n",
    "    res = collections.defaultdict(list)\n",
    "    for i, x in enumerate(size):\n",
    "        for next_ in lookup[x]:\n",
    "            res[next_].append(i)\n",
    "    for next_, dims in res.items():\n",
    "        if len(dims) in (2, 3):\n",
    "            new_size = list(size)\n",
    "            new_size[(set(range(3)).difference(dims[:2])).pop()] += 1\n",
    "            ret.add((next_, tuple(new_size)))\n",
    "    return ret"
   ]
  },
  {
   "cell_type": "code",
   "execution_count": 48,
   "metadata": {},
   "outputs": [],
   "source": [
    "# Funktion zum Zugriff auf potentielle Nachbarn\n",
    "def get_neighbors_inner(i: int) -> Set[int]:\n",
    "    a, b = stack[i]\n",
    "    ret = (lookup[a] | lookup[b]) - {i}\n",
    "    return ret\n",
    "\n",
    "def get_neighbors_solve(curr: int, size: Tuple[int, int, int]) -> Set[Tuple[int, Tuple[int, int, int]]]:\n",
    "    to_check = set()  # Set für mögliche Nachbarn\n",
    "    for i in get_neighbors_inner(curr):\n",
    "        # if i in seen:  # Nachbarn, die bereits besucht wurden, überspringen\n",
    "        #     continue\n",
    "        ab = set(stack[i])\n",
    "        new_size = None\n",
    "        # Prüfe, ob die Nachbarn die gleiche Größe (in 2 Dimensionen) haben\n",
    "        if ab == set(size[:2]):\n",
    "            new_size = tuple(sorted((size[0], size[1], size[2] + 1)))\n",
    "        elif ab == set(size[1:]):\n",
    "            new_size = tuple(sorted((size[1], size[2], size[0] + 1)))\n",
    "        elif ab == set(size[::2]):\n",
    "            new_size = tuple(sorted((size[2], size[0], size[1] + 1)))\n",
    "        # Wenn zwei mögliche Nachbarn zur gleichen Größe führen, überspringe den Nachbarn\n",
    "        if new_size is not None:\n",
    "            # Füge den Nachbarn zu den zu prüfenden Nachbarn hinzu\n",
    "            to_check.add((i, new_size))\n",
    "    return to_check"
   ]
  },
  {
   "cell_type": "code",
   "execution_count": 49,
   "metadata": {},
   "outputs": [
    {
     "name": "stdout",
     "output_type": "stream",
     "text": [
      "[(2, 4), (4, 6), (6, 6), (3, 4), (4, 6), (3, 6), (2, 4), (2, 4), (4, 6), (3, 3), (3, 3), (6, 6)]\n",
      "\n",
      "{(5, (6, 6, 2)), (1, (6, 6, 2)), (4, (6, 6, 2)), (11, (6, 6, 2)), (2, (6, 6, 2)), (8, (6, 6, 2))}\n",
      "{(11, (2, 6, 6)), (2, (2, 6, 6))}\n"
     ]
    }
   ],
   "source": [
    "i = 2\n",
    "print(stack)\n",
    "print()\n",
    "print(get_neighbors_alt((stack[i])+(1,)))\n",
    "print(get_neighbors_solve(1, list(stack[i])+[1]))"
   ]
  }
 ],
 "metadata": {
  "kernelspec": {
   "display_name": "Python 3",
   "language": "python",
   "name": "python3"
  },
  "language_info": {
   "codemirror_mode": {
    "name": "ipython",
    "version": 3
   },
   "file_extension": ".py",
   "mimetype": "text/x-python",
   "name": "python",
   "nbconvert_exporter": "python",
   "pygments_lexer": "ipython3",
   "version": "3.10.9"
  },
  "orig_nbformat": 4
 },
 "nbformat": 4,
 "nbformat_minor": 2
}
