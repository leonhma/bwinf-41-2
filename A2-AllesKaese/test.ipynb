{
 "cells": [
  {
   "cell_type": "code",
   "execution_count": 1,
   "metadata": {},
   "outputs": [],
   "source": [
    "import collections\n",
    "from typing import Set, Tuple"
   ]
  },
  {
   "cell_type": "code",
   "execution_count": 2,
   "metadata": {},
   "outputs": [],
   "source": [
    "with open('beispieldaten/kaese1.txt', 'r') as f:\n",
    "    stack = [tuple(map(int, f.readline().split())) for _ in range(int(f.readline()))]"
   ]
  },
  {
   "cell_type": "code",
   "execution_count": 3,
   "metadata": {},
   "outputs": [],
   "source": [
    "lookup = collections.defaultdict(set)\n",
    "try:\n",
    "    for i, (a, b) in enumerate(stack):\n",
    "        lookup[a].add(i)\n",
    "        lookup[b].add(i)\n",
    "except ValueError:\n",
    "    raise Exception(\n",
    "        \"ValueError: Die Eingabe-Datei ist wahrscheinlich nicht korrekt formatiert.\"\n",
    "    )"
   ]
  },
  {
   "cell_type": "code",
   "execution_count": 27,
   "metadata": {},
   "outputs": [],
   "source": [
    "# Funktion zum Zugriff auf Nachbarn\n",
    "def get_neighbors(size: Tuple[int, int, int]) -> Set[Tuple[int, Tuple[int, int, int]]]:\n",
    "    ret = set()\n",
    "    res = collections.defaultdict(list)\n",
    "    for i, x in enumerate(size):\n",
    "        for next_ in lookup[x]:\n",
    "            res[next_].append(i)\n",
    "    for next_, dims in res.items():\n",
    "        if len(dims) in (2, 3):\n",
    "            new_size = list(size)\n",
    "            new_size[(set(range(3)).difference(dims[:2])).pop()] += 1\n",
    "            ret.add((next_, tuple(new_size)))\n",
    "    return ret"
   ]
  },
  {
   "cell_type": "code",
   "execution_count": 28,
   "metadata": {},
   "outputs": [
    {
     "name": "stdout",
     "output_type": "stream",
     "text": [
      "{(7, (2, 4, 3)), (0, (2, 4, 3)), (6, (2, 4, 3))}\n"
     ]
    }
   ],
   "source": [
    "print(get_neighbors((2, 4, 2)))"
   ]
  }
 ],
 "metadata": {
  "kernelspec": {
   "display_name": "Python 3",
   "language": "python",
   "name": "python3"
  },
  "language_info": {
   "codemirror_mode": {
    "name": "ipython",
    "version": 3
   },
   "file_extension": ".py",
   "mimetype": "text/x-python",
   "name": "python",
   "nbconvert_exporter": "python",
   "pygments_lexer": "ipython3",
   "version": "3.10.9"
  },
  "orig_nbformat": 4
 },
 "nbformat": 4,
 "nbformat_minor": 2
}
