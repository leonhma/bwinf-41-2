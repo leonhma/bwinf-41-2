{
 "cells": [
  {
   "cell_type": "code",
   "execution_count": 18,
   "metadata": {},
   "outputs": [],
   "source": [
    "with open('output/kaese1.txt', 'r') as f:\n",
    "    slices = [tuple(map(int, line.split())) for line in f.readlines()]"
   ]
  },
  {
   "cell_type": "code",
   "execution_count": 19,
   "metadata": {},
   "outputs": [
    {
     "name": "stdout",
     "output_type": "stream",
     "text": [
      "[6, 6, 6]\n"
     ]
    }
   ],
   "source": [
    "size = list(slices.pop(0)) + [1]\n",
    "for slice in slices:\n",
    "    ab = set(slice)\n",
    "    if ab == set(size[:2]):\n",
    "        size[2] += 1\n",
    "    elif ab == set(size[1:]):\n",
    "        size[0] += 1\n",
    "    elif ab == set(size[::2]):\n",
    "        size[1] += 1\n",
    "    else:\n",
    "        raise Exception('no solution found')\n",
    "print(size)"
   ]
  }
 ],
 "metadata": {
  "kernelspec": {
   "display_name": "Python 3",
   "language": "python",
   "name": "python3"
  },
  "language_info": {
   "codemirror_mode": {
    "name": "ipython",
    "version": 3
   },
   "file_extension": ".py",
   "mimetype": "text/x-python",
   "name": "python",
   "nbconvert_exporter": "python",
   "pygments_lexer": "ipython3",
   "version": "3.10.9"
  },
  "orig_nbformat": 4
 },
 "nbformat": 4,
 "nbformat_minor": 2
}
