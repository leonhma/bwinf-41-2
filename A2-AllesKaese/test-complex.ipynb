{
 "cells": [
  {
   "cell_type": "code",
   "execution_count": 1,
   "metadata": {},
   "outputs": [],
   "source": [
    "from solve import search"
   ]
  },
  {
   "cell_type": "code",
   "execution_count": 2,
   "metadata": {},
   "outputs": [],
   "source": [
    "with open('beispieldaten/kaese8.txt', 'r') as f:\n",
    "    stack = [tuple(map(int, f.readline().split())) for _ in range(int(f.readline()))]"
   ]
  },
  {
   "cell_type": "code",
   "execution_count": 3,
   "metadata": {},
   "outputs": [
    {
     "name": "stdout",
     "output_type": "stream",
     "text": [
      "stack=[(1, 2), (2, 3), (2, 5)]\n",
      "current path is [[0, 0, (1, 2, 1), None]]\n",
      "returning (0,)\n",
      "current path is [[0, 1, (2, 3, 1), None]]\n",
      "returning (0, 0)\n",
      "current path is [[0, 1, (2, 3, 1), set()], [0, 0, (1, 2, 4), None]]\n",
      "returning (0, 1)\n",
      "adding virtual (1, 2, 4) [0, 0, 1]\n",
      "current path is [[0, 1, (2, 3, 1), set()], [0, 0, (1, 2, 4), set()], [1, (1, 1, 2)], [0, 2, (2, 2, 5), None]]\n",
      "returning (1, 0, 2)\n",
      "current path is [[0, 2, (2, 5, 1), None]]\n",
      "returning (0, 0)\n",
      "current path is [[0, 2, (2, 5, 1), set()], [0, 0, (1, 2, 6), None]]\n",
      "returning (2, 0)\n",
      "path=(0,), size=(1, 2, 1)\n",
      "path=(1, 0, 2), size=(2, 2, 5)\n",
      "path=(2, 0), size=(1, 2, 6)\n"
     ]
    }
   ],
   "source": [
    "print(f'{stack=}')\n",
    "for path, size in search(stack):\n",
    "    print(f'{path=}, {size=}')\n",
    "# a combination of multiple of these partial solutions should (only nodes in the end can be removed) use up all slices\n",
    "# todo maybe disallow permutations of the same slice\n",
    "# 'virtual' slices are included in the path, but not counted towards the number of elements and always added/removed in conjunction with a real next slice\n",
    "# for a given size choose the one with the least virtual slices (maybe bfs)"
   ]
  },
  {
   "cell_type": "code",
   "execution_count": 4,
   "metadata": {},
   "outputs": [],
   "source": [
    "# initialpath + rest(stack - initialpath) -> unpath (gets removed from the end of initial path)\n",
    "# nodes: set of nodes available, stock: list of previous solution in order of possible removal -> list of solutions accepted\n",
    "# len of stock is len(stack) - len(nodes)\n",
    "def make_path(nodes: set, stock: list or None) -> list(path):\n",
    "    pass"
   ]
  },
  {
   "cell_type": "code",
   "execution_count": 5,
   "metadata": {},
   "outputs": [
    {
     "ename": "NameError",
     "evalue": "name 'itplus1' is not defined",
     "output_type": "error",
     "traceback": [
      "\u001b[1;31m---------------------------------------------------------------------------\u001b[0m",
      "\u001b[1;31mNameError\u001b[0m                                 Traceback (most recent call last)",
      "Cell \u001b[1;32mIn[5], line 1\u001b[0m\n\u001b[1;32m----> 1\u001b[0m [a \u001b[39mfor\u001b[39;00m a \u001b[39min\u001b[39;00m itplus1((\u001b[39m2\u001b[39m, \u001b[39m3\u001b[39m))]\n",
      "\u001b[1;31mNameError\u001b[0m: name 'itplus1' is not defined"
     ]
    }
   ],
   "source": [
    "[a for a in itplus1((2, 3))]"
   ]
  }
 ],
 "metadata": {
  "kernelspec": {
   "display_name": "Python 3",
   "language": "python",
   "name": "python3"
  },
  "language_info": {
   "codemirror_mode": {
    "name": "ipython",
    "version": 3
   },
   "file_extension": ".py",
   "mimetype": "text/x-python",
   "name": "python",
   "nbconvert_exporter": "python",
   "pygments_lexer": "ipython3",
   "version": "3.10.9"
  },
  "orig_nbformat": 4
 },
 "nbformat": 4,
 "nbformat_minor": 2
}
