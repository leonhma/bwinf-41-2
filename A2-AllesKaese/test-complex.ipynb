{
 "cells": [
  {
   "cell_type": "code",
   "execution_count": 14,
   "metadata": {},
   "outputs": [],
   "source": [
    "from solve import search"
   ]
  },
  {
   "cell_type": "code",
   "execution_count": 15,
   "metadata": {},
   "outputs": [],
   "source": [
    "with open('beispieldaten/kaese8.txt', 'r') as f:\n",
    "    stack = [tuple(map(int, f.readline().split())) for _ in range(int(f.readline()))]"
   ]
  },
  {
   "cell_type": "code",
   "execution_count": 16,
   "metadata": {},
   "outputs": [
    {
     "name": "stdout",
     "output_type": "stream",
     "text": [
      "path=(0,), size=(1, 2, 1), n_virtual=0, n_nodes=1\n",
      "path=(1, 0, (1, 2), 2), size=(2, 2, 5), n_virtual=1, n_nodes=3\n",
      "path=(2, 0), size=(1, 2, 6), n_virtual=0, n_nodes=2\n"
     ]
    }
   ],
   "source": [
    "for path, size, n_virtual, n_nodes in search(stack):\n",
    "    print(f'{path=}, {size=}, {n_virtual=}, {n_nodes=}')\n",
    "# a combination of multiple of these partial solutions should (only nodes in the end can be removed) use up all slices\n",
    "# todo maybe disallow permutations of the same slice\n",
    "# 'virtual' slices are included in the path, but not counted towards the number of elements and always added/removed in conjunction with a real next slice\n",
    "# for a given size choose the one with the least virtual slices (maybe bfs)"
   ]
  },
  {
   "cell_type": "code",
   "execution_count": 17,
   "metadata": {},
   "outputs": [],
   "source": [
    "from typing import Generator, List, Tuple\n",
    "\n",
    "\n",
    "def combinations(l: List, target_length: int) -> Generator[List, None, None]:\n",
    "    \"\"\"Yield all combinations of the elements in l.\"\"\"\n",
    "    l.sort(key=lambda x: x[3])    # sort by node length\n",
    "\n",
    "    if len(l) == 0:\n",
    "        yield []\n",
    "    else:\n",
    "        for i in range(len(l)):\n",
    "            for c in combinations(l[:i] + l[i + 1 :], target_length - l[i][3]):\n",
    "                if len(c) == 1 and c[0][3] != target_length:\n",
    "                    continue\n",
    "                yield [l[i]] + c"
   ]
  },
  {
   "cell_type": "code",
   "execution_count": 18,
   "metadata": {},
   "outputs": [
    {
     "name": "stdout",
     "output_type": "stream",
     "text": [
      "((0,), (1, 2, 1), 0, 1)\n",
      "((1, 0, (1, 2), 2), (2, 2, 5), 1, 3)\n",
      "((2, 0), (1, 2, 6), 0, 2)\n"
     ]
    }
   ],
   "source": [
    "for a in search(stack):\n",
    "    print(a)"
   ]
  },
  {
   "cell_type": "code",
   "execution_count": 19,
   "metadata": {},
   "outputs": [
    {
     "name": "stdout",
     "output_type": "stream",
     "text": [
      "[((1, 0, (1, 2), 2), (2, 2, 5), 1)] 1\n",
      "[((1, 0), (1, 2, 4), 0), ((2,), (1, 2, 5), 0)] 2\n",
      "[((1,), (1, 2, 3), 0), ((2, 0), (1, 2, 6), 0)] 2\n"
     ]
    }
   ],
   "source": [
    "# TODO onyl go upward from first to avoid duplicate paths, ability to remove nodes from the end\n",
    "import itertools\n",
    "\n",
    "def remove(slice: Tuple[int, int], size: List[int]):\n",
    "    ab = set(slice)\n",
    "    if ab == set(size[:2]):\n",
    "        size[2] -= 1\n",
    "    elif ab == set(size[1:]):\n",
    "        size[0] -= 1\n",
    "    elif ab == set(size[::2]):\n",
    "        size[1] -= 1\n",
    "    else:\n",
    "        raise Exception('what')\n",
    "\n",
    "for l in range(1, 3):\n",
    "    for c in itertools.combinations(search(stack), l):\n",
    "        overflow = sum(x[3] for x in c) - len(stack)\n",
    "        if overflow < 0:\n",
    "            continue\n",
    "        for x in itertools.product(range(overflow + 1), repeat=l):\n",
    "            if sum(x) != overflow:\n",
    "                continue\n",
    "            paths = []\n",
    "            for i, p in enumerate(c):\n",
    "                path, size, n_virtual = list(p[0]), list(p[1]), p[2]\n",
    "                for _ in range(x[i]):\n",
    "                    i = path.pop()\n",
    "                    remove(stack[i], size)\n",
    "                    if path and isinstance(path[-1], tuple):\n",
    "                        s = path.pop()\n",
    "                        remove(s, size)\n",
    "                        n_virtual -= 1\n",
    "\n",
    "                paths.append((tuple(path), tuple(size), n_virtual))\n",
    "            if any(len(p) == 0 for p, _, _ in paths):\n",
    "                continue\n",
    "            seen = set()\n",
    "            for p, _, _ in paths:\n",
    "                for i in p:\n",
    "                    if isinstance(i, tuple):\n",
    "                        continue\n",
    "                    seen.add(i)\n",
    "            if len(seen) == len(stack):\n",
    "                print(paths, len(paths))\n",
    "        "
   ]
  },
  {
   "cell_type": "code",
   "execution_count": 20,
   "metadata": {},
   "outputs": [],
   "source": [
    "# initialpath + rest(stack - initialpath) -> unpath (gets removed from the end of initial path)\n",
    "# nodes: set of nodes available, stock: list of previous solution in order of possible removal -> list of solutions accepted\n",
    "# len of stock is len(stack) - len(nodes)\n",
    "def make_path(nodes: set, stock: list or None) -> list(path):\n",
    "    pass"
   ]
  },
  {
   "cell_type": "code",
   "execution_count": 24,
   "metadata": {},
   "outputs": [
    {
     "name": "stdout",
     "output_type": "stream",
     "text": [
      "next paths\n",
      "path_=(1, 0), size=(1, 2, 4), n_virtual=0\n",
      "path_=(2,), size=(1, 2, 5), n_virtual=0\n",
      "next paths\n",
      "path_=(1,), size=(1, 2, 3), n_virtual=0\n",
      "path_=(2, 0), size=(1, 2, 6), n_virtual=0\n"
     ]
    }
   ],
   "source": [
    "from solve import make_stacks\n",
    "\n",
    "for paths in make_stacks(stack, 2):\n",
    "    print('next paths')\n",
    "    for path in paths:\n",
    "        path_, size, n_virtual = path\n",
    "        print(f'{path_=}, {size=}, {n_virtual=}')"
   ]
  }
 ],
 "metadata": {
  "kernelspec": {
   "display_name": "Python 3",
   "language": "python",
   "name": "python3"
  },
  "language_info": {
   "codemirror_mode": {
    "name": "ipython",
    "version": 3
   },
   "file_extension": ".py",
   "mimetype": "text/x-python",
   "name": "python",
   "nbconvert_exporter": "python",
   "pygments_lexer": "ipython3",
   "version": "3.10.9"
  },
  "orig_nbformat": 4
 },
 "nbformat": 4,
 "nbformat_minor": 2
}
