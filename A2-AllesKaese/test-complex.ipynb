{
 "cells": [
  {
   "cell_type": "code",
   "execution_count": 1,
   "metadata": {},
   "outputs": [],
   "source": [
    "from solve import search, itplus1"
   ]
  },
  {
   "cell_type": "code",
   "execution_count": 2,
   "metadata": {},
   "outputs": [],
   "source": [
    "with open('beispieldaten/kaese8.txt', 'r') as f:\n",
    "    stack = [tuple(map(int, f.readline().split())) for _ in range(int(f.readline()))]"
   ]
  },
  {
   "cell_type": "code",
   "execution_count": 3,
   "metadata": {},
   "outputs": [
    {
     "name": "stdout",
     "output_type": "stream",
     "text": [
      "stack=[(1, 2), (2, 3), (2, 5)]\n",
      "current path is: [[0, (1, 2, 1), None]]\n",
      "current path is: [[0, (1, 2, 1), set()], [1, (2, 2, 3), None]]\n",
      "backtracking: [[0, (1, 2, 1), set()], [1, (2, 2, 3), set()]], size: (2, 2, 3)\n",
      "[0, 1] (2, 2, 3)\n",
      "current path is: [[1, (2, 3, 1), None]]\n",
      "current path is: [[1, (2, 3, 1), {(0, (1, 2, 4))}], [0, (1, 2, 3), None]]\n",
      "backtracking: [[1, (2, 3, 1), {(0, (1, 2, 4))}], [0, (1, 2, 3), set()]], size: (1, 2, 3)\n",
      "[1, 0] (1, 2, 3)\n",
      "current path is: [[1, (2, 3, 1), {(0, (1, 2, 4))}]]\n",
      "current path is: [[1, (2, 3, 1), set()], [0, (1, 2, 4), None]]\n",
      "current path is: [[1, (2, 3, 1), set()], [0, (1, 2, 4), {(2, (2, 3, 5))}], [2, (2, 2, 5), None]]\n",
      "[1, 0, 2] (2, 2, 5)\n",
      "backtracking: [[1, (2, 3, 1), set()], [0, (1, 2, 4), {(2, (2, 3, 5))}], [2, (2, 2, 5), None]], size: (2, 2, 5)\n",
      "current path is: [[1, (2, 3, 1), set()], [0, (1, 2, 4), {(2, (2, 3, 5))}]]\n",
      "current path is: [[1, (2, 3, 1), set()], [0, (1, 2, 4), set()], [2, (2, 3, 5), None]]\n",
      "[1, 0, 2] (2, 3, 5)\n",
      "backtracking: [[1, (2, 3, 1), set()], [0, (1, 2, 4), set()], [2, (2, 3, 5), None]], size: (2, 3, 5)\n",
      "current path is: [[2, (2, 5, 1), None]]\n",
      "current path is: [[2, (2, 5, 1), {(0, (1, 2, 6)), (1, (2, 3, 6)), (1, (2, 2, 3))}], [0, (1, 2, 3), None]]\n",
      "current path is: [[2, (2, 5, 1), {(0, (1, 2, 6)), (1, (2, 3, 6)), (1, (2, 2, 3))}], [0, (1, 2, 3), {(1, (2, 2, 3)), (1, (2, 3, 3))}], [1, (2, 3, 4), None]]\n",
      "[2, 0, 1] (2, 3, 4)\n",
      "backtracking: [[2, (2, 5, 1), {(0, (1, 2, 6)), (1, (2, 3, 6)), (1, (2, 2, 3))}], [0, (1, 2, 3), {(1, (2, 2, 3)), (1, (2, 3, 3))}], [1, (2, 3, 4), None]], size: (2, 3, 4)\n",
      "current path is: [[2, (2, 5, 1), {(0, (1, 2, 6)), (1, (2, 3, 6)), (1, (2, 2, 3))}], [0, (1, 2, 3), {(1, (2, 2, 3)), (1, (2, 3, 3))}]]\n",
      "current path is: [[2, (2, 5, 1), {(0, (1, 2, 6)), (1, (2, 3, 6)), (1, (2, 2, 3))}], [0, (1, 2, 3), {(1, (2, 3, 3))}], [1, (2, 2, 3), None]]\n",
      "[2, 0, 1] (2, 2, 3)\n",
      "backtracking: [[2, (2, 5, 1), {(0, (1, 2, 6)), (1, (2, 3, 6)), (1, (2, 2, 3))}], [0, (1, 2, 3), {(1, (2, 3, 3))}], [1, (2, 2, 3), None]], size: (2, 2, 3)\n",
      "current path is: [[2, (2, 5, 1), {(0, (1, 2, 6)), (1, (2, 3, 6)), (1, (2, 2, 3))}], [0, (1, 2, 3), {(1, (2, 3, 3))}]]\n",
      "current path is: [[2, (2, 5, 1), {(0, (1, 2, 6)), (1, (2, 3, 6)), (1, (2, 2, 3))}], [0, (1, 2, 3), set()], [1, (2, 3, 3), None]]\n",
      "[2, 0, 1] (2, 3, 3)\n",
      "backtracking: [[2, (2, 5, 1), {(0, (1, 2, 6)), (1, (2, 3, 6)), (1, (2, 2, 3))}], [0, (1, 2, 3), set()], [1, (2, 3, 3), None]], size: (2, 3, 3)\n",
      "current path is: [[2, (2, 5, 1), {(0, (1, 2, 6)), (1, (2, 3, 6)), (1, (2, 2, 3))}]]\n",
      "current path is: [[2, (2, 5, 1), {(1, (2, 3, 6)), (1, (2, 2, 3))}], [0, (1, 2, 6), None]]\n",
      "current path is: [[2, (2, 5, 1), {(1, (2, 3, 6)), (1, (2, 2, 3))}], [0, (1, 2, 6), {(1, (2, 2, 3))}], [1, (2, 3, 7), None]]\n",
      "[2, 0, 1] (2, 3, 7)\n",
      "backtracking: [[2, (2, 5, 1), {(1, (2, 3, 6)), (1, (2, 2, 3))}], [0, (1, 2, 6), {(1, (2, 2, 3))}], [1, (2, 3, 7), None]], size: (2, 3, 7)\n",
      "current path is: [[2, (2, 5, 1), {(1, (2, 3, 6)), (1, (2, 2, 3))}], [0, (1, 2, 6), {(1, (2, 2, 3))}]]\n",
      "current path is: [[2, (2, 5, 1), {(1, (2, 3, 6)), (1, (2, 2, 3))}], [0, (1, 2, 6), set()], [1, (2, 2, 3), None]]\n",
      "[2, 0, 1] (2, 2, 3)\n",
      "backtracking: [[2, (2, 5, 1), {(1, (2, 3, 6)), (1, (2, 2, 3))}], [0, (1, 2, 6), set()], [1, (2, 2, 3), None]], size: (2, 2, 3)\n",
      "current path is: [[2, (2, 5, 1), {(1, (2, 3, 6)), (1, (2, 2, 3))}]]\n",
      "current path is: [[2, (2, 5, 1), {(1, (2, 2, 3))}], [1, (2, 3, 6), None]]\n",
      "backtracking: [[2, (2, 5, 1), {(1, (2, 2, 3))}], [1, (2, 3, 6), set()]], size: (2, 3, 6)\n",
      "[2, 1] (2, 3, 6)\n",
      "current path is: [[2, (2, 5, 1), {(1, (2, 2, 3))}]]\n",
      "current path is: [[2, (2, 5, 1), set()], [1, (2, 2, 3), None]]\n",
      "backtracking: [[2, (2, 5, 1), set()], [1, (2, 2, 3), set()]], size: (2, 2, 3)\n",
      "[2, 1] (2, 2, 3)\n"
     ]
    }
   ],
   "source": [
    "print(f'{stack=}')\n",
    "for path, size in search(stack):\n",
    "    print(path, size)\n",
    "# a combination of multiple of these partial solutions should (only nodes in the end can be removed) use up all slices\n",
    "# todo maybe disallow permutations of the same slice\n",
    "# 'virtual' slices are included in the path, but not counted towards the number of elements and always added/removed in conjunction with a real next slice"
   ]
  },
  {
   "cell_type": "code",
   "execution_count": 4,
   "metadata": {},
   "outputs": [],
   "source": [
    "# initialpath + rest(stack - initialpath) -> unpath (gets removed from the end of initial path)\n",
    "# nodes: set of nodes available, stock: list of previous solution in order of possible removal -> list of solutions accepted\n",
    "# len of stock is len(stack) - len(nodes)\n",
    "def make_path(nodes: set, stock: list or None) -> list(path):\n",
    "    pass"
   ]
  },
  {
   "cell_type": "code",
   "execution_count": 5,
   "metadata": {},
   "outputs": [
    {
     "data": {
      "text/plain": [
       "[2, 3, 3, 4]"
      ]
     },
     "execution_count": 5,
     "metadata": {},
     "output_type": "execute_result"
    }
   ],
   "source": [
    "[a for a in itplus1((2, 3))]"
   ]
  }
 ],
 "metadata": {
  "kernelspec": {
   "display_name": "Python 3",
   "language": "python",
   "name": "python3"
  },
  "language_info": {
   "codemirror_mode": {
    "name": "ipython",
    "version": 3
   },
   "file_extension": ".py",
   "mimetype": "text/x-python",
   "name": "python",
   "nbconvert_exporter": "python",
   "pygments_lexer": "ipython3",
   "version": "3.10.9"
  },
  "orig_nbformat": 4
 },
 "nbformat": 4,
 "nbformat_minor": 2
}
