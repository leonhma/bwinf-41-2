{
 "cells": [
  {
   "cell_type": "code",
   "execution_count": 13,
   "metadata": {},
   "outputs": [],
   "source": [
    "from solve import search"
   ]
  },
  {
   "cell_type": "code",
   "execution_count": 14,
   "metadata": {},
   "outputs": [],
   "source": [
    "with open('beispieldaten/kaese8.txt', 'r') as f:\n",
    "    stack = [tuple(map(int, f.readline().split())) for _ in range(int(f.readline()))]"
   ]
  },
  {
   "cell_type": "code",
   "execution_count": 15,
   "metadata": {},
   "outputs": [
    {
     "name": "stdout",
     "output_type": "stream",
     "text": [
      "path=(0,), size=(1, 2, 1), n_virtual=0, n_nodes=1\n",
      "path=(1, 0, (1, 2), 2), size=(2, 2, 5), n_virtual=1, n_nodes=3\n",
      "path=(2, 0), size=(1, 2, 6), n_virtual=0, n_nodes=2\n"
     ]
    }
   ],
   "source": [
    "for path, size, n_virtual, n_nodes in search(stack):\n",
    "    print(f'{path=}, {size=}, {n_virtual=}, {n_nodes=}')\n",
    "# a combination of multiple of these partial solutions should (only nodes in the end can be removed) use up all slices\n",
    "# todo maybe disallow permutations of the same slice\n",
    "# 'virtual' slices are included in the path, but not counted towards the number of elements and always added/removed in conjunction with a real next slice\n",
    "# for a given size choose the one with the least virtual slices (maybe bfs)"
   ]
  },
  {
   "cell_type": "code",
   "execution_count": 16,
   "metadata": {},
   "outputs": [],
   "source": [
    "from typing import Generator, List, Tuple\n",
    "\n",
    "\n",
    "def combinations(l: List, target_length: int) -> Generator[List, None, None]:\n",
    "    \"\"\"Yield all combinations of the elements in l.\"\"\"\n",
    "    l.sort(key=lambda x: x[3])  # sort by node length\n",
    "\n",
    "    if len(l) == 0:\n",
    "        yield []\n",
    "    else:\n",
    "        for i in range(len(l)):\n",
    "            for c in combinations(l[:i] + l[i + 1 :], target_length - l[i][3]):\n",
    "                if len(c) == 1 and c[3] != target_length:\n",
    "                    continue\n",
    "                yield [l[i]] + c"
   ]
  },
  {
   "cell_type": "code",
   "execution_count": 17,
   "metadata": {},
   "outputs": [
    {
     "ename": "IndexError",
     "evalue": "list index out of range",
     "output_type": "error",
     "traceback": [
      "\u001b[1;31m---------------------------------------------------------------------------\u001b[0m",
      "\u001b[1;31mIndexError\u001b[0m                                Traceback (most recent call last)",
      "Cell \u001b[1;32mIn[17], line 1\u001b[0m\n\u001b[1;32m----> 1\u001b[0m \u001b[39mprint\u001b[39m([a \u001b[39mfor\u001b[39;00m a \u001b[39min\u001b[39;00m combinations(\u001b[39mlist\u001b[39m(search(stack)), \u001b[39mlen\u001b[39m(stack))])\n",
      "Cell \u001b[1;32mIn[17], line 1\u001b[0m, in \u001b[0;36m<listcomp>\u001b[1;34m(.0)\u001b[0m\n\u001b[1;32m----> 1\u001b[0m \u001b[39mprint\u001b[39m([a \u001b[39mfor\u001b[39;00m a \u001b[39min\u001b[39;00m combinations(\u001b[39mlist\u001b[39m(search(stack)), \u001b[39mlen\u001b[39m(stack))])\n",
      "Cell \u001b[1;32mIn[16], line 12\u001b[0m, in \u001b[0;36mcombinations\u001b[1;34m(l, target_length)\u001b[0m\n\u001b[0;32m     10\u001b[0m \u001b[39melse\u001b[39;00m:\n\u001b[0;32m     11\u001b[0m     \u001b[39mfor\u001b[39;00m i \u001b[39min\u001b[39;00m \u001b[39mrange\u001b[39m(\u001b[39mlen\u001b[39m(l)):\n\u001b[1;32m---> 12\u001b[0m         \u001b[39mfor\u001b[39;00m c \u001b[39min\u001b[39;00m combinations(l[:i] \u001b[39m+\u001b[39m l[i \u001b[39m+\u001b[39m \u001b[39m1\u001b[39m :], target_length \u001b[39m-\u001b[39m l[i][\u001b[39m3\u001b[39m]):\n\u001b[0;32m     13\u001b[0m             \u001b[39mif\u001b[39;00m \u001b[39mlen\u001b[39m(c) \u001b[39m==\u001b[39m \u001b[39m1\u001b[39m \u001b[39mand\u001b[39;00m c[\u001b[39m3\u001b[39m] \u001b[39m!=\u001b[39m target_length:\n\u001b[0;32m     14\u001b[0m                 \u001b[39mcontinue\u001b[39;00m\n",
      "Cell \u001b[1;32mIn[16], line 13\u001b[0m, in \u001b[0;36mcombinations\u001b[1;34m(l, target_length)\u001b[0m\n\u001b[0;32m     11\u001b[0m \u001b[39mfor\u001b[39;00m i \u001b[39min\u001b[39;00m \u001b[39mrange\u001b[39m(\u001b[39mlen\u001b[39m(l)):\n\u001b[0;32m     12\u001b[0m     \u001b[39mfor\u001b[39;00m c \u001b[39min\u001b[39;00m combinations(l[:i] \u001b[39m+\u001b[39m l[i \u001b[39m+\u001b[39m \u001b[39m1\u001b[39m :], target_length \u001b[39m-\u001b[39m l[i][\u001b[39m3\u001b[39m]):\n\u001b[1;32m---> 13\u001b[0m         \u001b[39mif\u001b[39;00m \u001b[39mlen\u001b[39m(c) \u001b[39m==\u001b[39m \u001b[39m1\u001b[39m \u001b[39mand\u001b[39;00m c[\u001b[39m3\u001b[39;49m] \u001b[39m!=\u001b[39m target_length:\n\u001b[0;32m     14\u001b[0m             \u001b[39mcontinue\u001b[39;00m\n\u001b[0;32m     15\u001b[0m         \u001b[39myield\u001b[39;00m [l[i]] \u001b[39m+\u001b[39m c\n",
      "\u001b[1;31mIndexError\u001b[0m: list index out of range"
     ]
    }
   ],
   "source": [
    "print([a for a in combinations(list(search(stack)), len(stack))])"
   ]
  },
  {
   "cell_type": "code",
   "execution_count": null,
   "metadata": {},
   "outputs": [],
   "source": [
    "# initialpath + rest(stack - initialpath) -> unpath (gets removed from the end of initial path)\n",
    "# nodes: set of nodes available, stock: list of previous solution in order of possible removal -> list of solutions accepted\n",
    "# len of stock is len(stack) - len(nodes)\n",
    "def make_path(nodes: set, stock: list or None) -> list(path):\n",
    "    pass"
   ]
  }
 ],
 "metadata": {
  "kernelspec": {
   "display_name": "Python 3",
   "language": "python",
   "name": "python3"
  },
  "language_info": {
   "codemirror_mode": {
    "name": "ipython",
    "version": 3
   },
   "file_extension": ".py",
   "mimetype": "text/x-python",
   "name": "python",
   "nbconvert_exporter": "python",
   "pygments_lexer": "ipython3",
   "version": "3.10.9"
  },
  "orig_nbformat": 4
 },
 "nbformat": 4,
 "nbformat_minor": 2
}
