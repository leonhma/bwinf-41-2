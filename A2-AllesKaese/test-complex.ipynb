{
 "cells": [
  {
   "cell_type": "code",
   "execution_count": 6,
   "metadata": {},
   "outputs": [],
   "source": [
    "from solve import search"
   ]
  },
  {
   "cell_type": "code",
   "execution_count": 7,
   "metadata": {},
   "outputs": [],
   "source": [
    "with open('beispieldaten/kaese8.txt', 'r') as f:\n",
    "    stack = [tuple(map(int, f.readline().split())) for _ in range(int(f.readline()))]"
   ]
  },
  {
   "cell_type": "code",
   "execution_count": 8,
   "metadata": {},
   "outputs": [
    {
     "name": "stdout",
     "output_type": "stream",
     "text": [
      "path=(0,), size=(1, 2, 1), n_virtual=0\n",
      "path=(1, 0, (1, 2), 2), size=(2, 2, 5), n_virtual=1\n",
      "path=(2, 0), size=(1, 2, 6), n_virtual=0\n"
     ]
    }
   ],
   "source": [
    "for path, size, n_virtual in search(stack):\n",
    "    print(f'{path=}, {size=}, {n_virtual=}')\n",
    "# a combination of multiple of these partial solutions should (only nodes in the end can be removed) use up all slices\n",
    "# todo maybe disallow permutations of the same slice\n",
    "# 'virtual' slices are included in the path, but not counted towards the number of elements and always added/removed in conjunction with a real next slice\n",
    "# for a given size choose the one with the least virtual slices (maybe bfs)"
   ]
  },
  {
   "cell_type": "code",
   "execution_count": 9,
   "metadata": {},
   "outputs": [],
   "source": [
    "# initialpath + rest(stack - initialpath) -> unpath (gets removed from the end of initial path)\n",
    "# nodes: set of nodes available, stock: list of previous solution in order of possible removal -> list of solutions accepted\n",
    "# len of stock is len(stack) - len(nodes)\n",
    "def make_path(nodes: set, stock: list or None) -> list(path):\n",
    "    pass"
   ]
  }
 ],
 "metadata": {
  "kernelspec": {
   "display_name": "Python 3",
   "language": "python",
   "name": "python3"
  },
  "language_info": {
   "codemirror_mode": {
    "name": "ipython",
    "version": 3
   },
   "file_extension": ".py",
   "mimetype": "text/x-python",
   "name": "python",
   "nbconvert_exporter": "python",
   "pygments_lexer": "ipython3",
   "version": "3.10.9"
  },
  "orig_nbformat": 4
 },
 "nbformat": 4,
 "nbformat_minor": 2
}
