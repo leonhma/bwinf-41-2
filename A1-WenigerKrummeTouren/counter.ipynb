{
 "cells": [
  {
   "cell_type": "code",
   "execution_count": 25,
   "metadata": {},
   "outputs": [],
   "source": [
    "from typing import List\n",
    "\n",
    "\n",
    "class Counter:\n",
    "    \"\"\"A custom counter class.\"\"\"\n",
    "    n: int\n",
    "    counter: List[int]\n",
    "    last_increment_idx: int\n",
    "    needs_increment: bool\n",
    "\n",
    "    def __init__(self, n: int):\n",
    "        self.n = n\n",
    "        self.counter = [0] * n\n",
    "        self.last_increment_idx = 0\n",
    "        self.needs_increment = False\n",
    "\n",
    "    def increment(self, idx: int = None):\n",
    "        \"\"\"Increment the counter.\n",
    "\n",
    "        Parameters\n",
    "        ----------\n",
    "        idx : int, optional\n",
    "            The index to increment, by default `-1`.\n",
    "        \"\"\"\n",
    "        if idx is None:\n",
    "            idx = self.n - 1\n",
    "        else:\n",
    "            self.counter = self.counter[:idx+1] + [0] * (self.n - idx - 1)\n",
    "\n",
    "        self.counter[idx] += 1\n",
    "        self.last_increment_idx = idx\n",
    "        \n",
    "\n",
    "        for i in range(idx, -1, -1):\n",
    "            if self.counter[i] >= (self.n - i):\n",
    "                self.counter[i] = 0\n",
    "                if i > 0:\n",
    "                    self.counter[i - 1] += 1\n",
    "                    self.last_increment_idx = i - 1\n",
    "                else:\n",
    "                    raise StopIteration\n",
    "            else:\n",
    "                break\n",
    "\n",
    "    def carry(self):\n",
    "        self.increment(self.last_increment_idx)\n",
    "        self.counter = self.counter[:self.last_increment_idx+1] + [0] * (self.n - self.last_increment_idx - 1)\n",
    "        self.needs_increment = False\n",
    "\n",
    "    def __next__(self):\n",
    "        if self.needs_increment:\n",
    "            self.increment()\n",
    "        self.needs_increment = True\n",
    "        return tuple(self.counter)\n"
   ]
  },
  {
   "cell_type": "code",
   "execution_count": 26,
   "metadata": {},
   "outputs": [],
   "source": [
    "c = Counter(5)"
   ]
  },
  {
   "cell_type": "code",
   "execution_count": 27,
   "metadata": {},
   "outputs": [
    {
     "name": "stdout",
     "output_type": "stream",
     "text": [
      "(0, 0, 0, 0, 0)\n",
      "(0, 0, 0, 1, 0)\n",
      "(0, 0, 1, 0, 0)\n",
      "(0, 0, 1, 1, 0)\n",
      "(0, 0, 2, 0, 0)\n",
      "(0, 0, 2, 1, 0)\n",
      "(0, 1, 0, 0, 0)\n",
      "(0, 1, 0, 1, 0)\n",
      "(0, 1, 1, 0, 0)\n",
      "(0, 1, 1, 1, 0)\n",
      "(0, 1, 2, 0, 0)\n",
      "(0, 1, 2, 1, 0)\n",
      "(0, 2, 0, 0, 0)\n",
      "c.last_increment_idx=1\n",
      "(0, 3, 0, 0, 0)\n",
      "(0, 3, 0, 1, 0)\n",
      "(0, 3, 1, 0, 0)\n",
      "(0, 3, 1, 1, 0)\n",
      "(0, 3, 2, 0, 0)\n",
      "(0, 3, 2, 1, 0)\n",
      "(1, 0, 0, 0, 0)\n",
      "(1, 0, 0, 1, 0)\n",
      "(1, 0, 1, 0, 0)\n",
      "(1, 0, 1, 1, 0)\n",
      "(1, 0, 2, 0, 0)\n",
      "(1, 0, 2, 1, 0)\n",
      "(1, 1, 0, 0, 0)\n",
      "c.last_increment_idx=1\n",
      "(1, 2, 0, 0, 0)\n",
      "(1, 2, 0, 1, 0)\n",
      "(1, 2, 1, 0, 0)\n",
      "(1, 2, 1, 1, 0)\n",
      "(1, 2, 2, 0, 0)\n",
      "(1, 2, 2, 1, 0)\n",
      "(1, 3, 0, 0, 0)\n",
      "(1, 3, 0, 1, 0)\n",
      "(1, 3, 1, 0, 0)\n",
      "(1, 3, 1, 1, 0)\n",
      "(1, 3, 2, 0, 0)\n",
      "(1, 3, 2, 1, 0)\n",
      "(2, 0, 0, 0, 0)\n",
      "c.last_increment_idx=0\n",
      "(3, 0, 0, 0, 0)\n",
      "(3, 0, 0, 1, 0)\n",
      "(3, 0, 1, 0, 0)\n",
      "(3, 0, 1, 1, 0)\n",
      "(3, 0, 2, 0, 0)\n",
      "(3, 0, 2, 1, 0)\n",
      "(3, 1, 0, 0, 0)\n",
      "(3, 1, 0, 1, 0)\n",
      "(3, 1, 1, 0, 0)\n",
      "(3, 1, 1, 1, 0)\n",
      "(3, 1, 2, 0, 0)\n",
      "(3, 1, 2, 1, 0)\n",
      "(3, 2, 0, 0, 0)\n",
      "c.last_increment_idx=1\n",
      "(3, 3, 0, 0, 0)\n",
      "(3, 3, 0, 1, 0)\n",
      "(3, 3, 1, 0, 0)\n",
      "(3, 3, 1, 1, 0)\n",
      "(3, 3, 2, 0, 0)\n",
      "(3, 3, 2, 1, 0)\n",
      "(4, 0, 0, 0, 0)\n",
      "(4, 0, 0, 1, 0)\n",
      "(4, 0, 1, 0, 0)\n",
      "(4, 0, 1, 1, 0)\n",
      "(4, 0, 2, 0, 0)\n",
      "(4, 0, 2, 1, 0)\n",
      "(4, 1, 0, 0, 0)\n",
      "c.last_increment_idx=1\n",
      "(4, 2, 0, 0, 0)\n",
      "(4, 2, 0, 1, 0)\n",
      "(4, 2, 1, 0, 0)\n",
      "(4, 2, 1, 1, 0)\n",
      "(4, 2, 2, 0, 0)\n",
      "(4, 2, 2, 1, 0)\n",
      "(4, 3, 0, 0, 0)\n",
      "(4, 3, 0, 1, 0)\n",
      "(4, 3, 1, 0, 0)\n",
      "(4, 3, 1, 1, 0)\n",
      "(4, 3, 2, 0, 0)\n",
      "(4, 3, 2, 1, 0)\n"
     ]
    },
    {
     "ename": "StopIteration",
     "evalue": "",
     "output_type": "error",
     "traceback": [
      "\u001b[1;31m---------------------------------------------------------------------------\u001b[0m",
      "\u001b[1;31mStopIteration\u001b[0m                             Traceback (most recent call last)",
      "Cell \u001b[1;32mIn[27], line 2\u001b[0m\n\u001b[0;32m      1\u001b[0m \u001b[39mfor\u001b[39;00m i \u001b[39min\u001b[39;00m \u001b[39mrange\u001b[39m(\u001b[39m100\u001b[39m):\n\u001b[1;32m----> 2\u001b[0m     \u001b[39mprint\u001b[39m(\u001b[39mnext\u001b[39;49m(c))\n\u001b[0;32m      3\u001b[0m     \u001b[39mif\u001b[39;00m i \u001b[39m!=\u001b[39m \u001b[39m0\u001b[39m \u001b[39mand\u001b[39;00m i \u001b[39m%\u001b[39m \u001b[39m12\u001b[39m \u001b[39m==\u001b[39m \u001b[39m0\u001b[39m:\n\u001b[0;32m      4\u001b[0m         \u001b[39mprint\u001b[39m(\u001b[39mf\u001b[39m\u001b[39m'\u001b[39m\u001b[39m{\u001b[39;00mc\u001b[39m.\u001b[39mlast_increment_idx\u001b[39m=}\u001b[39;00m\u001b[39m'\u001b[39m)\n",
      "Cell \u001b[1;32mIn[25], line 52\u001b[0m, in \u001b[0;36mCounter.__next__\u001b[1;34m(self)\u001b[0m\n\u001b[0;32m     50\u001b[0m \u001b[39mdef\u001b[39;00m \u001b[39m__next__\u001b[39m(\u001b[39mself\u001b[39m):\n\u001b[0;32m     51\u001b[0m     \u001b[39mif\u001b[39;00m \u001b[39mself\u001b[39m\u001b[39m.\u001b[39mneeds_increment:\n\u001b[1;32m---> 52\u001b[0m         \u001b[39mself\u001b[39;49m\u001b[39m.\u001b[39;49mincrement()\n\u001b[0;32m     53\u001b[0m     \u001b[39mself\u001b[39m\u001b[39m.\u001b[39mneeds_increment \u001b[39m=\u001b[39m \u001b[39mTrue\u001b[39;00m\n\u001b[0;32m     54\u001b[0m     \u001b[39mreturn\u001b[39;00m \u001b[39mtuple\u001b[39m(\u001b[39mself\u001b[39m\u001b[39m.\u001b[39mcounter)\n",
      "Cell \u001b[1;32mIn[25], line 41\u001b[0m, in \u001b[0;36mCounter.increment\u001b[1;34m(self, idx)\u001b[0m\n\u001b[0;32m     39\u001b[0m         \u001b[39mself\u001b[39m\u001b[39m.\u001b[39mlast_increment_idx \u001b[39m=\u001b[39m i \u001b[39m-\u001b[39m \u001b[39m1\u001b[39m\n\u001b[0;32m     40\u001b[0m     \u001b[39melse\u001b[39;00m:\n\u001b[1;32m---> 41\u001b[0m         \u001b[39mraise\u001b[39;00m \u001b[39mStopIteration\u001b[39;00m\n\u001b[0;32m     42\u001b[0m \u001b[39melse\u001b[39;00m:\n\u001b[0;32m     43\u001b[0m     \u001b[39mbreak\u001b[39;00m\n",
      "\u001b[1;31mStopIteration\u001b[0m: "
     ]
    }
   ],
   "source": [
    "for i in range(100):\n",
    "    print(next(c))\n",
    "    if i != 0 and i % 12 == 0:\n",
    "        print(f'{c.last_increment_idx=}')\n",
    "        c.carry()\n",
    "        print(next(c))"
   ]
  },
  {
   "cell_type": "code",
   "execution_count": 1,
   "metadata": {},
   "outputs": [
    {
     "name": "stdout",
     "output_type": "stream",
     "text": [
      "[(0, 1, 2), (1, 2, 3), (2, 3, 4), (3, 4, 5), (4, 5, 6), (5, 6, 7), (6, 7, 8), (7, 8, 9)]\n"
     ]
    }
   ],
   "source": [
    "from utils import sliding_window\n",
    "print(list(sliding_window(range(10), n=3)))"
   ]
  },
  {
   "cell_type": "code",
   "execution_count": 2,
   "metadata": {},
   "outputs": [
    {
     "data": {
      "text/plain": [
       "83"
      ]
     },
     "execution_count": 2,
     "metadata": {},
     "output_type": "execute_result"
    }
   ],
   "source": [
    "-1 % 84"
   ]
  }
 ],
 "metadata": {
  "kernelspec": {
   "display_name": "Python 3",
   "language": "python",
   "name": "python3"
  },
  "language_info": {
   "codemirror_mode": {
    "name": "ipython",
    "version": 3
   },
   "file_extension": ".py",
   "mimetype": "text/x-python",
   "name": "python",
   "nbconvert_exporter": "python",
   "pygments_lexer": "ipython3",
   "version": "3.9.2"
  },
  "orig_nbformat": 4,
  "vscode": {
   "interpreter": {
    "hash": "a17857845f158b9079f7d03c1770676a6d084bb02335159f1ce8d6a4f13351db"
   }
  }
 },
 "nbformat": 4,
 "nbformat_minor": 2
}
