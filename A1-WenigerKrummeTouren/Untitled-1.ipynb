{
 "cells": [
  {
   "cell_type": "code",
   "execution_count": 17,
   "metadata": {},
   "outputs": [],
   "source": [
    "from math import atan2, degrees"
   ]
  },
  {
   "cell_type": "code",
   "execution_count": 18,
   "metadata": {},
   "outputs": [],
   "source": [
    "def _angle(p1: int, p2: int) -> float:\n",
    "    \"\"\"Return the CCW angle of the flight line to the x-axis. ([-180, 180])\n",
    "\n",
    "        Hint\n",
    "        ----\n",
    "            Subtracting two of these values gives the turn angle.\n",
    "\n",
    "        Parameters\n",
    "        ----------\n",
    "        p1 : int\n",
    "            The index of the first point.\n",
    "        p2 : int\n",
    "            The index of the second point.\n",
    "\n",
    "        Returns\n",
    "        -------\n",
    "        float\n",
    "            The angle between the two points.\n",
    "        \"\"\"\n",
    "    return degrees(\n",
    "        atan2(\n",
    "            p2[1] - p1[1],\n",
    "            p2[0] - p1[0]))\n"
   ]
  },
  {
   "cell_type": "code",
   "execution_count": 19,
   "metadata": {},
   "outputs": [],
   "source": [
    "p = [\n",
    "    ((-81.347329, -182.709092),\n",
    "     (0.000000, -150.000000),\n",
    "     (-31.186754, -146.722140)),\n",
    "    ((0, 100),\n",
    "     (100, 100),\n",
    "     (0, 100)),\n",
    "    ((0, 100),\n",
    "     (100, 100),\n",
    "     (100, 0)),\n",
    "    ((0, 100),\n",
    "     (100, 100),\n",
    "     (100, 200)),\n",
    "    ((0, 100),\n",
    "     (100, 100),\n",
    "     (200, 200)),\n",
    "    ((-81.347329, -182.709092),\n",
    "     (-111.471724, -100.369591),\n",
    "     (-88.167788, - 121.352549))]  # 150, 180, 90, 90, 45, 150\n"
   ]
  },
  {
   "cell_type": "code",
   "execution_count": 20,
   "metadata": {},
   "outputs": [
    {
     "name": "stdout",
     "output_type": "stream",
     "text": [
      "((-81.347329, -182.709092), (0.0, -150.0), (-31.186754, -146.72214)): -152.09534605133305\n",
      "((0, 100), (100, 100), (0, 100)): -180.0\n",
      "((0, 100), (100, 100), (100, 0)): 90.0\n",
      "((0, 100), (100, 100), (100, 200)): -90.0\n",
      "((0, 100), (100, 100), (200, 200)): -45.0\n",
      "((-81.347329, -182.709092), (-111.471724, -100.369591), (-88.167788, -121.352549)): 152.09534584707103\n"
     ]
    }
   ],
   "source": [
    "\n",
    "for coords in p:\n",
    "    prev = _angle(coords[0], coords[1])\n",
    "    now = _angle(coords[1], coords[2])\n",
    "    print(f'{coords}: {(prev-now+180)%360-180}')\n"
   ]
  }
 ],
 "metadata": {
  "kernelspec": {
   "display_name": "Python 3",
   "language": "python",
   "name": "python3"
  },
  "language_info": {
   "codemirror_mode": {
    "name": "ipython",
    "version": 3
   },
   "file_extension": ".py",
   "mimetype": "text/x-python",
   "name": "python",
   "nbconvert_exporter": "python",
   "pygments_lexer": "ipython3",
   "version": "3.10.9"
  },
  "orig_nbformat": 4,
  "vscode": {
   "interpreter": {
    "hash": "a17857845f158b9079f7d03c1770676a6d084bb02335159f1ce8d6a4f13351db"
   }
  }
 },
 "nbformat": 4,
 "nbformat_minor": 2
}
