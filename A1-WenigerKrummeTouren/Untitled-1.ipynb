{
 "cells": [
  {
   "cell_type": "code",
   "execution_count": 2,
   "metadata": {},
   "outputs": [],
   "source": [
    "from math import atan2, degrees\n",
    "from typing import Tuple"
   ]
  },
  {
   "cell_type": "code",
   "execution_count": 3,
   "metadata": {},
   "outputs": [],
   "source": [
    "def _angle(\n",
    "        p1: Tuple[float, float],\n",
    "        p2: Tuple[float, float]) -> float:\n",
    "    return degrees(atan2(p2[1] - p1[1], p2[0] - p1[0]))\n"
   ]
  },
  {
   "cell_type": "code",
   "execution_count": 15,
   "metadata": {},
   "outputs": [
    {
     "name": "stdout",
     "output_type": "stream",
     "text": [
      "prev=0.0 now=-5.710593137499642 prev-now=5.710593137499642 (prev-now+180)%360-180=5.710593137499643 (prev-now+90)%180-90=5.710593137499643\n"
     ]
    }
   ],
   "source": [
    "prev = _angle((0, 30), (60, 30))\n",
    "now = _angle((60, 30), (70, 29))\n",
    "print(f'{prev=} {now=} {prev-now=} {(prev-now+180)%360-180=} {(prev-now+90)%180-90=}')\n"
   ]
  }
 ],
 "metadata": {
  "kernelspec": {
   "display_name": "Python 3",
   "language": "python",
   "name": "python3"
  },
  "language_info": {
   "codemirror_mode": {
    "name": "ipython",
    "version": 3
   },
   "file_extension": ".py",
   "mimetype": "text/x-python",
   "name": "python",
   "nbconvert_exporter": "python",
   "pygments_lexer": "ipython3",
   "version": "3.10.9"
  },
  "orig_nbformat": 4,
  "vscode": {
   "interpreter": {
    "hash": "a17857845f158b9079f7d03c1770676a6d084bb02335159f1ce8d6a4f13351db"
   }
  }
 },
 "nbformat": 4,
 "nbformat_minor": 2
}
