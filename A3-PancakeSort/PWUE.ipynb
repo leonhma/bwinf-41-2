{
 "cells": [
  {
   "attachments": {},
   "cell_type": "markdown",
   "metadata": {},
   "source": [
    "go down from top until a smaller pancake is encountered, set switching to true. if a bigger pancake or the end is encouontered and switching is true, switch on top of the bigger pancake/end"
   ]
  },
  {
   "attachments": {},
   "cell_type": "markdown",
   "metadata": {},
   "source": [
    "dynamic programming"
   ]
  },
  {
   "cell_type": "code",
   "execution_count": 18,
   "metadata": {},
   "outputs": [],
   "source": [
    "from itertools import permutations\n",
    "from typing import List, Tuple\n",
    "\n",
    "\n",
    "def step(stack: List[int]):\n",
    "    if len(stack) <= 1:\n",
    "        return stack\n",
    "    switching = False\n",
    "    for i in range(len(stack)):\n",
    "        if i != len(stack)-1 and stack[i] > stack[i+1]:\n",
    "            switching = True\n",
    "        if (i == len(stack)-1 or stack[i] < stack[i+1]) and switching:\n",
    "            stack[:i+1] = list(reversed(stack[:i+1]))[1:]\n",
    "            break\n",
    "\n",
    "def P(stack: Tuple[int, ...]):\n",
    "    stack = list(stack)\n",
    "    i = 0\n",
    "    while stack != sorted(stack):\n",
    "        step(stack)\n",
    "        i += 1\n",
    "    return i\n",
    "\n",
    "def PWUE(n: int):\n",
    "    return max(P(stack) for stack in permutations(range(n)))"
   ]
  },
  {
   "cell_type": "code",
   "execution_count": 1,
   "metadata": {},
   "outputs": [],
   "source": [
    "def pancake_sort(S):\n",
    "    n = len(S)\n",
    "    res = []\n",
    "    for i in range(n, 0, -1):\n",
    "        j = S.index(i)\n",
    "        if j != i-1:\n",
    "            if j != 0:\n",
    "                S = S[:j+1][::-1] + S[j+1:]\n",
    "                res.append(j+1)\n",
    "            S = S[:i][::-1] + S[i:]\n",
    "            res.append(i)\n",
    "    return res"
   ]
  },
  {
   "cell_type": "code",
   "execution_count": 2,
   "metadata": {},
   "outputs": [
    {
     "data": {
      "text/plain": [
       "[3, 4, 2, 3, 2]"
      ]
     },
     "execution_count": 2,
     "metadata": {},
     "output_type": "execute_result"
    }
   ],
   "source": [
    "pancake_sort([3, 2, 4, 1])"
   ]
  },
  {
   "cell_type": "code",
   "execution_count": 19,
   "metadata": {},
   "outputs": [
    {
     "name": "stdout",
     "output_type": "stream",
     "text": [
      "PWUE for 1: 0\n",
      "PWUE for 2: 1\n",
      "PWUE for 3: 2\n",
      "PWUE for 4: 3\n",
      "PWUE for 5: 4\n"
     ]
    }
   ],
   "source": [
    "i = [1, 2, 3, 4, 5]\n",
    "for j in i:\n",
    "    print(f'PWUE for {j}: {PWUE(j)}')"
   ]
  }
 ],
 "metadata": {
  "kernelspec": {
   "display_name": "Python 3",
   "language": "python",
   "name": "python3"
  },
  "language_info": {
   "codemirror_mode": {
    "name": "ipython",
    "version": 3
   },
   "file_extension": ".py",
   "mimetype": "text/x-python",
   "name": "python",
   "nbconvert_exporter": "python",
   "pygments_lexer": "ipython3",
   "version": "3.10.9"
  },
  "orig_nbformat": 4
 },
 "nbformat": 4,
 "nbformat_minor": 2
}
