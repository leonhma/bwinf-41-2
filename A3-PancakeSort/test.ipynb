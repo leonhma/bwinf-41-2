{
 "cells": [
  {
   "cell_type": "code",
   "execution_count": 95,
   "metadata": {},
   "outputs": [],
   "source": [
    "from typing import Generator, List, Tuple\n",
    "\n",
    "def counter(max_: List[int]) -> Generator:\n",
    "    n = [0] * len(max_)\n",
    "    while True:\n",
    "        yield n\n",
    "        n[-1] += 1\n",
    "        for i in range(len(n) - 1, -1, -1):\n",
    "            if n[i] > max_[i]:\n",
    "                if i == 0:\n",
    "                    return\n",
    "                n[i] = 0\n",
    "                n[i - 1] += 1\n",
    "\n",
    "def bfsort(stack: Tuple[int]):\n",
    "    max_ = list(range(len(stack) - 1, -1, -1))\n",
    "    min_ = 999999\n",
    "    for n in counter(max_):\n",
    "        nstack = list(stack)\n",
    "        for i in n:\n",
    "            if i != 0:\n",
    "                nstack = nstack[i - 1::-1] + nstack[i + 1:]\n",
    "        if nstack == sorted(nstack):\n",
    "            min_ = min(min_, len(tuple(filter(lambda x: x != 0, n))))\n",
    "    return min_"
   ]
  },
  {
   "cell_type": "code",
   "execution_count": 96,
   "metadata": {},
   "outputs": [],
   "source": [
    "import itertools\n",
    "# ub n-1\n",
    "\n",
    "def PWUE(n: int):\n",
    "    max_ = 0\n",
    "    worstn = 0\n",
    "    worststack = None\n",
    "    for x in itertools.permutations(range(1, n + 1)):\n",
    "        if (a := bfsort(x)) > max_:\n",
    "            max_ = a\n",
    "            worststack = x\n",
    "            worstn += 1\n",
    "    return max_, worststack, worstn\n",
    "\n"
   ]
  },
  {
   "cell_type": "code",
   "execution_count": 97,
   "metadata": {},
   "outputs": [],
   "source": [
    "def worststack(n: int):\n",
    "    tp = tuple(range(1, n + 1))\n",
    "    return tuple(tp[::-2]+tp[0 if n % 2 == 0 else 1::2])\n",
    "\n",
    "def worststack2(n: int):\n",
    "    tp = tuple(range(1, n + 1))\n",
    "    return tuple(tp[1:] + tp[:1])\n",
    "\n",
    "def PWUE2(n: int):\n",
    "    return bfsort(worststack(n))\n",
    "\n",
    "def PWUE3(n: int):\n",
    "    return bfsort(worststack2(n))"
   ]
  },
  {
   "cell_type": "code",
   "execution_count": 98,
   "metadata": {},
   "outputs": [
    {
     "name": "stdout",
     "output_type": "stream",
     "text": [
      "1: (0, None, 0) / 0 ((1,))\n",
      "2: (1, (2, 1), 1) / 1 ((2, 1))\n",
      "3: (2, (2, 3, 1), 2) / 2 ((2, 3, 1))\n",
      "4: (2, (1, 2, 4, 3), 1) / 2 ((2, 3, 4, 1))\n",
      "5: (3, (1, 4, 2, 5, 3), 2) / 2 ((2, 3, 4, 5, 1))\n",
      "6: (3, (1, 2, 5, 3, 6, 4), 2) / 2 ((2, 3, 4, 5, 6, 1))\n"
     ]
    }
   ],
   "source": [
    "for i in range(1, 7):\n",
    "    print(f'{i}: {PWUE(i)} / {PWUE3(i)} ({worststack2(i)})')"
   ]
  }
 ],
 "metadata": {
  "kernelspec": {
   "display_name": "Python 3",
   "language": "python",
   "name": "python3"
  },
  "language_info": {
   "codemirror_mode": {
    "name": "ipython",
    "version": 3
   },
   "file_extension": ".py",
   "mimetype": "text/x-python",
   "name": "python",
   "nbconvert_exporter": "python",
   "pygments_lexer": "ipython3",
   "version": "3.10.9"
  },
  "orig_nbformat": 4
 },
 "nbformat": 4,
 "nbformat_minor": 2
}
